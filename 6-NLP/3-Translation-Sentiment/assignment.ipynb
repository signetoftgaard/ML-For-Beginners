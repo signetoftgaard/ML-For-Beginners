{
 "cells": [
  {
   "cell_type": "code",
   "execution_count": 75,
   "metadata": {},
   "outputs": [
    {
     "name": "stderr",
     "output_type": "stream",
     "text": [
      "[nltk_data] Downloading package punkt to\n",
      "[nltk_data]     C:\\Users\\signe\\AppData\\Roaming\\nltk_data...\n",
      "[nltk_data]   Package punkt is already up-to-date!\n"
     ]
    }
   ],
   "source": [
    "from textblob import TextBlob\n",
    "import nltk\n",
    "nltk.download('punkt')\n",
    "\n",
    "blob = TextBlob(\n",
    "    \"It is a truth universally acknowledged, that a single man in possession of a good fortune, must be in want of a wife!\"\n",
    ")"
   ]
  },
  {
   "cell_type": "code",
   "execution_count": 76,
   "metadata": {},
   "outputs": [
    {
     "name": "stdout",
     "output_type": "stream",
     "text": [
      "Det er en sandhed, der universelt er anerkendt, at en enkelt mand, der er i besiddelse af en lykke, skal være i mangel på en kone!\n"
     ]
    }
   ],
   "source": [
    "print(blob.translate(from_lang='en', to='da'))"
   ]
  },
  {
   "cell_type": "code",
   "execution_count": 77,
   "metadata": {},
   "outputs": [
    {
     "name": "stdout",
     "output_type": "stream",
     "text": [
      "I am very excited to be learning machine learning right now has a sentiment of Sentiment(polarity=0.38660714285714287, subjectivity=0.7553571428571428)\n",
      "The worst thing about prison was the dementors has a sentiment of Sentiment(polarity=-1.0, subjectivity=1.0)\n"
     ]
    }
   ],
   "source": [
    "quote1 = \"I am very excited to be learning machine learning right now\"\n",
    "\n",
    "quote2 = \"The worst thing about prison was the dementors\"\n",
    "\n",
    "sentiment1 = TextBlob(quote1).sentiment\n",
    "sentiment2 = TextBlob(quote2).sentiment\n",
    "\n",
    "print(quote1 + \" has a sentiment of \" + str(sentiment1))\n",
    "print(quote2 + \" has a sentiment of \" + str(sentiment2))"
   ]
  },
  {
   "cell_type": "code",
   "execution_count": 78,
   "metadata": {},
   "outputs": [],
   "source": [
    "with open(\"Pride and Prejudice.txt\", encoding=\"utf8\") as pride:\n",
    "    text = pride.read()"
   ]
  },
  {
   "cell_type": "code",
   "execution_count": 79,
   "metadata": {},
   "outputs": [],
   "source": [
    "pap_blob = TextBlob(text)\n",
    "positive_sentences = []\n",
    "negative_sentences = []"
   ]
  },
  {
   "cell_type": "code",
   "execution_count": 80,
   "metadata": {},
   "outputs": [
    {
     "name": "stdout",
     "output_type": "stream",
     "text": [
      "There are 33 positive sentences\n",
      "There are 16 negative sentences\n"
     ]
    }
   ],
   "source": [
    "# loop through each sentence in the text, appending to the appropriate list\n",
    "for sentence in pap_blob.sentences:\n",
    "    if sentence.sentiment.polarity == 1:\n",
    "        positive_sentences.append(sentence)\n",
    "    elif sentence.sentiment.polarity == -1:\n",
    "        negative_sentences.append(sentence)\n",
    "\n",
    "print(\"There are \" + str(len(positive_sentences)) + \" positive sentences\")\n",
    "print(\"There are \" + str(len(negative_sentences)) + \" negative sentences\")"
   ]
  }
 ],
 "metadata": {
  "kernelspec": {
   "display_name": "Python 3.8.6 64-bit",
   "language": "python",
   "name": "python3"
  },
  "language_info": {
   "codemirror_mode": {
    "name": "ipython",
    "version": 3
   },
   "file_extension": ".py",
   "mimetype": "text/x-python",
   "name": "python",
   "nbconvert_exporter": "python",
   "pygments_lexer": "ipython3",
   "version": "3.8.6"
  },
  "orig_nbformat": 4,
  "vscode": {
   "interpreter": {
    "hash": "5165a8fa50eabd66af0a1b027c97ee5c399819ceb9c354a3d2da48cfbc716b6d"
   }
  }
 },
 "nbformat": 4,
 "nbformat_minor": 2
}
