{
 "cells": [
  {
   "cell_type": "markdown",
   "metadata": {},
   "source": [
    "# Nigerian Music scraped from Spotify - an analysis"
   ]
  },
  {
   "cell_type": "code",
   "execution_count": 1,
   "metadata": {},
   "outputs": [
    {
     "name": "stdout",
     "output_type": "stream",
     "text": [
      "Requirement already satisfied: seaborn in c:\\users\\signe\\appdata\\local\\programs\\python\\python38\\lib\\site-packages (0.12.0)\n",
      "Requirement already satisfied: pandas>=0.25 in c:\\users\\signe\\appdata\\local\\programs\\python\\python38\\lib\\site-packages (from seaborn) (1.5.0)\n",
      "Requirement already satisfied: numpy>=1.17 in c:\\users\\signe\\appdata\\local\\programs\\python\\python38\\lib\\site-packages (from seaborn) (1.23.3)\n",
      "Requirement already satisfied: matplotlib>=3.1 in c:\\users\\signe\\appdata\\roaming\\python\\python38\\site-packages (from seaborn) (3.3.3)\n",
      "Requirement already satisfied: pytz>=2020.1 in c:\\users\\signe\\appdata\\local\\programs\\python\\python38\\lib\\site-packages (from pandas>=0.25->seaborn) (2022.2.1)\n",
      "Requirement already satisfied: python-dateutil>=2.8.1 in c:\\users\\signe\\appdata\\roaming\\python\\python38\\site-packages (from pandas>=0.25->seaborn) (2.8.1)\n",
      "Requirement already satisfied: pillow>=6.2.0 in c:\\users\\signe\\appdata\\roaming\\python\\python38\\site-packages (from matplotlib>=3.1->seaborn) (8.0.1)\n",
      "Requirement already satisfied: cycler>=0.10 in c:\\users\\signe\\appdata\\roaming\\python\\python38\\site-packages (from matplotlib>=3.1->seaborn) (0.10.0)\n",
      "Requirement already satisfied: pyparsing!=2.0.4,!=2.1.2,!=2.1.6,>=2.0.3 in c:\\users\\signe\\appdata\\roaming\\python\\python38\\site-packages (from matplotlib>=3.1->seaborn) (2.4.7)\n",
      "Requirement already satisfied: kiwisolver>=1.0.1 in c:\\users\\signe\\appdata\\roaming\\python\\python38\\site-packages (from matplotlib>=3.1->seaborn) (1.3.1)\n",
      "Requirement already satisfied: six>=1.5 in c:\\users\\signe\\appdata\\roaming\\python\\python38\\site-packages (from python-dateutil>=2.8.1->pandas>=0.25->seaborn) (1.15.0)\n",
      "Note: you may need to restart the kernel to use updated packages.\n"
     ]
    },
    {
     "name": "stderr",
     "output_type": "stream",
     "text": [
      "WARNING: You are using pip version 20.2.4; however, version 22.2.2 is available.\n",
      "You should consider upgrading via the 'c:\\Users\\signe\\AppData\\Local\\Programs\\Python\\Python38\\python.exe -m pip install --upgrade pip' command.\n"
     ]
    }
   ],
   "source": [
    "pip install seaborn"
   ]
  },
  {
   "cell_type": "markdown",
   "metadata": {},
   "source": [
    "Start where we finished in the last lesson, with data imported and filtered."
   ]
  },
  {
   "cell_type": "code",
   "execution_count": 2,
   "metadata": {},
   "outputs": [
    {
     "name": "stderr",
     "output_type": "stream",
     "text": [
      "c:\\Users\\signe\\AppData\\Local\\Programs\\Python\\Python38\\lib\\site-packages\\numpy\\_distributor_init.py:30: UserWarning: loaded more than 1 DLL from .libs:\n",
      "c:\\Users\\signe\\AppData\\Local\\Programs\\Python\\Python38\\lib\\site-packages\\numpy\\.libs\\libopenblas.FB5AE2TYXYH2IJRDKGDGQ3XBKLKTF43H.gfortran-win_amd64.dll\n",
      "c:\\Users\\signe\\AppData\\Local\\Programs\\Python\\Python38\\lib\\site-packages\\numpy\\.libs\\libopenblas.NOIJJG62EMASZI6NYURL6JBKM4EVBGM7.gfortran-win_amd64.dll\n",
      "  warnings.warn(\"loaded more than 1 DLL from .libs:\"\n"
     ]
    },
    {
     "data": {
      "text/html": [
       "<div>\n",
       "<style scoped>\n",
       "    .dataframe tbody tr th:only-of-type {\n",
       "        vertical-align: middle;\n",
       "    }\n",
       "\n",
       "    .dataframe tbody tr th {\n",
       "        vertical-align: top;\n",
       "    }\n",
       "\n",
       "    .dataframe thead th {\n",
       "        text-align: right;\n",
       "    }\n",
       "</style>\n",
       "<table border=\"1\" class=\"dataframe\">\n",
       "  <thead>\n",
       "    <tr style=\"text-align: right;\">\n",
       "      <th></th>\n",
       "      <th>name</th>\n",
       "      <th>album</th>\n",
       "      <th>artist</th>\n",
       "      <th>artist_top_genre</th>\n",
       "      <th>release_date</th>\n",
       "      <th>length</th>\n",
       "      <th>popularity</th>\n",
       "      <th>danceability</th>\n",
       "      <th>acousticness</th>\n",
       "      <th>energy</th>\n",
       "      <th>instrumentalness</th>\n",
       "      <th>liveness</th>\n",
       "      <th>loudness</th>\n",
       "      <th>speechiness</th>\n",
       "      <th>tempo</th>\n",
       "      <th>time_signature</th>\n",
       "    </tr>\n",
       "  </thead>\n",
       "  <tbody>\n",
       "    <tr>\n",
       "      <th>0</th>\n",
       "      <td>Sparky</td>\n",
       "      <td>Mandy &amp; The Jungle</td>\n",
       "      <td>Cruel Santino</td>\n",
       "      <td>alternative r&amp;b</td>\n",
       "      <td>2019</td>\n",
       "      <td>144000</td>\n",
       "      <td>48</td>\n",
       "      <td>0.666</td>\n",
       "      <td>0.8510</td>\n",
       "      <td>0.420</td>\n",
       "      <td>0.534000</td>\n",
       "      <td>0.1100</td>\n",
       "      <td>-6.699</td>\n",
       "      <td>0.0829</td>\n",
       "      <td>133.015</td>\n",
       "      <td>5</td>\n",
       "    </tr>\n",
       "    <tr>\n",
       "      <th>1</th>\n",
       "      <td>shuga rush</td>\n",
       "      <td>EVERYTHING YOU HEARD IS TRUE</td>\n",
       "      <td>Odunsi (The Engine)</td>\n",
       "      <td>afropop</td>\n",
       "      <td>2020</td>\n",
       "      <td>89488</td>\n",
       "      <td>30</td>\n",
       "      <td>0.710</td>\n",
       "      <td>0.0822</td>\n",
       "      <td>0.683</td>\n",
       "      <td>0.000169</td>\n",
       "      <td>0.1010</td>\n",
       "      <td>-5.640</td>\n",
       "      <td>0.3600</td>\n",
       "      <td>129.993</td>\n",
       "      <td>3</td>\n",
       "    </tr>\n",
       "    <tr>\n",
       "      <th>2</th>\n",
       "      <td>LITT!</td>\n",
       "      <td>LITT!</td>\n",
       "      <td>AYLØ</td>\n",
       "      <td>indie r&amp;b</td>\n",
       "      <td>2018</td>\n",
       "      <td>207758</td>\n",
       "      <td>40</td>\n",
       "      <td>0.836</td>\n",
       "      <td>0.2720</td>\n",
       "      <td>0.564</td>\n",
       "      <td>0.000537</td>\n",
       "      <td>0.1100</td>\n",
       "      <td>-7.127</td>\n",
       "      <td>0.0424</td>\n",
       "      <td>130.005</td>\n",
       "      <td>4</td>\n",
       "    </tr>\n",
       "    <tr>\n",
       "      <th>3</th>\n",
       "      <td>Confident / Feeling Cool</td>\n",
       "      <td>Enjoy Your Life</td>\n",
       "      <td>Lady Donli</td>\n",
       "      <td>nigerian pop</td>\n",
       "      <td>2019</td>\n",
       "      <td>175135</td>\n",
       "      <td>14</td>\n",
       "      <td>0.894</td>\n",
       "      <td>0.7980</td>\n",
       "      <td>0.611</td>\n",
       "      <td>0.000187</td>\n",
       "      <td>0.0964</td>\n",
       "      <td>-4.961</td>\n",
       "      <td>0.1130</td>\n",
       "      <td>111.087</td>\n",
       "      <td>4</td>\n",
       "    </tr>\n",
       "    <tr>\n",
       "      <th>4</th>\n",
       "      <td>wanted you</td>\n",
       "      <td>rare.</td>\n",
       "      <td>Odunsi (The Engine)</td>\n",
       "      <td>afropop</td>\n",
       "      <td>2018</td>\n",
       "      <td>152049</td>\n",
       "      <td>25</td>\n",
       "      <td>0.702</td>\n",
       "      <td>0.1160</td>\n",
       "      <td>0.833</td>\n",
       "      <td>0.910000</td>\n",
       "      <td>0.3480</td>\n",
       "      <td>-6.044</td>\n",
       "      <td>0.0447</td>\n",
       "      <td>105.115</td>\n",
       "      <td>4</td>\n",
       "    </tr>\n",
       "  </tbody>\n",
       "</table>\n",
       "</div>"
      ],
      "text/plain": [
       "                       name                         album  \\\n",
       "0                    Sparky            Mandy & The Jungle   \n",
       "1                shuga rush  EVERYTHING YOU HEARD IS TRUE   \n",
       "2                     LITT!                         LITT!   \n",
       "3  Confident / Feeling Cool               Enjoy Your Life   \n",
       "4                wanted you                         rare.   \n",
       "\n",
       "                artist artist_top_genre  release_date  length  popularity  \\\n",
       "0        Cruel Santino  alternative r&b          2019  144000          48   \n",
       "1  Odunsi (The Engine)          afropop          2020   89488          30   \n",
       "2                 AYLØ        indie r&b          2018  207758          40   \n",
       "3           Lady Donli     nigerian pop          2019  175135          14   \n",
       "4  Odunsi (The Engine)          afropop          2018  152049          25   \n",
       "\n",
       "   danceability  acousticness  energy  instrumentalness  liveness  loudness  \\\n",
       "0         0.666        0.8510   0.420          0.534000    0.1100    -6.699   \n",
       "1         0.710        0.0822   0.683          0.000169    0.1010    -5.640   \n",
       "2         0.836        0.2720   0.564          0.000537    0.1100    -7.127   \n",
       "3         0.894        0.7980   0.611          0.000187    0.0964    -4.961   \n",
       "4         0.702        0.1160   0.833          0.910000    0.3480    -6.044   \n",
       "\n",
       "   speechiness    tempo  time_signature  \n",
       "0       0.0829  133.015               5  \n",
       "1       0.3600  129.993               3  \n",
       "2       0.0424  130.005               4  \n",
       "3       0.1130  111.087               4  \n",
       "4       0.0447  105.115               4  "
      ]
     },
     "execution_count": 2,
     "metadata": {},
     "output_type": "execute_result"
    }
   ],
   "source": [
    "\n",
    "import matplotlib.pyplot as plt\n",
    "import pandas as pd\n",
    "import seaborn as sns\n",
    "\n",
    "\n",
    "df = pd.read_csv(\"../data/nigerian-songs.csv\")\n",
    "df.head()"
   ]
  },
  {
   "cell_type": "markdown",
   "metadata": {},
   "source": [
    "We will focus only on 3 genres. Maybe we can get 3 clusters built!"
   ]
  },
  {
   "cell_type": "code",
   "execution_count": 3,
   "metadata": {},
   "outputs": [
    {
     "data": {
      "text/plain": [
       "Text(0.5, 1.0, 'Top genres')"
      ]
     },
     "execution_count": 3,
     "metadata": {},
     "output_type": "execute_result"
    },
    {
     "data": {
      "image/png": "[encoded data removed]",
      "text/plain": [
       "<Figure size 720x504 with 1 Axes>"
      ]
     },
     "metadata": {
      "needs_background": "light"
     },
     "output_type": "display_data"
    }
   ],
   "source": [
    "df = df[(df['artist_top_genre'] == 'afro dancehall') | (df['artist_top_genre'] == 'afropop') | (df['artist_top_genre'] == 'nigerian pop')]\n",
    "df = df[(df['popularity'] > 0)]\n",
    "top = df['artist_top_genre'].value_counts()\n",
    "plt.figure(figsize=(10,7))\n",
    "sns.barplot(x=top.index,y=top.values)\n",
    "plt.xticks(rotation=45)\n",
    "plt.title('Top genres',color = 'blue')"
   ]
  },
  {
   "cell_type": "code",
   "execution_count": 4,
   "metadata": {},
   "outputs": [
    {
     "data": {
      "text/html": [
       "<div>\n",
       "<style scoped>\n",
       "    .dataframe tbody tr th:only-of-type {\n",
       "        vertical-align: middle;\n",
       "    }\n",
       "\n",
       "    .dataframe tbody tr th {\n",
       "        vertical-align: top;\n",
       "    }\n",
       "\n",
       "    .dataframe thead th {\n",
       "        text-align: right;\n",
       "    }\n",
       "</style>\n",
       "<table border=\"1\" class=\"dataframe\">\n",
       "  <thead>\n",
       "    <tr style=\"text-align: right;\">\n",
       "      <th></th>\n",
       "      <th>name</th>\n",
       "      <th>album</th>\n",
       "      <th>artist</th>\n",
       "      <th>artist_top_genre</th>\n",
       "      <th>release_date</th>\n",
       "      <th>length</th>\n",
       "      <th>popularity</th>\n",
       "      <th>danceability</th>\n",
       "      <th>acousticness</th>\n",
       "      <th>energy</th>\n",
       "      <th>instrumentalness</th>\n",
       "      <th>liveness</th>\n",
       "      <th>loudness</th>\n",
       "      <th>speechiness</th>\n",
       "      <th>tempo</th>\n",
       "      <th>time_signature</th>\n",
       "    </tr>\n",
       "  </thead>\n",
       "  <tbody>\n",
       "    <tr>\n",
       "      <th>1</th>\n",
       "      <td>shuga rush</td>\n",
       "      <td>EVERYTHING YOU HEARD IS TRUE</td>\n",
       "      <td>Odunsi (The Engine)</td>\n",
       "      <td>afropop</td>\n",
       "      <td>2020</td>\n",
       "      <td>89488</td>\n",
       "      <td>30</td>\n",
       "      <td>0.710</td>\n",
       "      <td>0.0822</td>\n",
       "      <td>0.683</td>\n",
       "      <td>0.000169</td>\n",
       "      <td>0.1010</td>\n",
       "      <td>-5.640</td>\n",
       "      <td>0.3600</td>\n",
       "      <td>129.993</td>\n",
       "      <td>3</td>\n",
       "    </tr>\n",
       "    <tr>\n",
       "      <th>3</th>\n",
       "      <td>Confident / Feeling Cool</td>\n",
       "      <td>Enjoy Your Life</td>\n",
       "      <td>Lady Donli</td>\n",
       "      <td>nigerian pop</td>\n",
       "      <td>2019</td>\n",
       "      <td>175135</td>\n",
       "      <td>14</td>\n",
       "      <td>0.894</td>\n",
       "      <td>0.7980</td>\n",
       "      <td>0.611</td>\n",
       "      <td>0.000187</td>\n",
       "      <td>0.0964</td>\n",
       "      <td>-4.961</td>\n",
       "      <td>0.1130</td>\n",
       "      <td>111.087</td>\n",
       "      <td>4</td>\n",
       "    </tr>\n",
       "    <tr>\n",
       "      <th>4</th>\n",
       "      <td>wanted you</td>\n",
       "      <td>rare.</td>\n",
       "      <td>Odunsi (The Engine)</td>\n",
       "      <td>afropop</td>\n",
       "      <td>2018</td>\n",
       "      <td>152049</td>\n",
       "      <td>25</td>\n",
       "      <td>0.702</td>\n",
       "      <td>0.1160</td>\n",
       "      <td>0.833</td>\n",
       "      <td>0.910000</td>\n",
       "      <td>0.3480</td>\n",
       "      <td>-6.044</td>\n",
       "      <td>0.0447</td>\n",
       "      <td>105.115</td>\n",
       "      <td>4</td>\n",
       "    </tr>\n",
       "    <tr>\n",
       "      <th>5</th>\n",
       "      <td>Kasala</td>\n",
       "      <td>Pioneers</td>\n",
       "      <td>DRB Lasgidi</td>\n",
       "      <td>nigerian pop</td>\n",
       "      <td>2020</td>\n",
       "      <td>184800</td>\n",
       "      <td>26</td>\n",
       "      <td>0.803</td>\n",
       "      <td>0.1270</td>\n",
       "      <td>0.525</td>\n",
       "      <td>0.000007</td>\n",
       "      <td>0.1290</td>\n",
       "      <td>-10.034</td>\n",
       "      <td>0.1970</td>\n",
       "      <td>100.103</td>\n",
       "      <td>4</td>\n",
       "    </tr>\n",
       "    <tr>\n",
       "      <th>6</th>\n",
       "      <td>Pull Up</td>\n",
       "      <td>Everything Pretty</td>\n",
       "      <td>prettyboydo</td>\n",
       "      <td>nigerian pop</td>\n",
       "      <td>2018</td>\n",
       "      <td>202648</td>\n",
       "      <td>29</td>\n",
       "      <td>0.818</td>\n",
       "      <td>0.4520</td>\n",
       "      <td>0.587</td>\n",
       "      <td>0.004490</td>\n",
       "      <td>0.5900</td>\n",
       "      <td>-9.840</td>\n",
       "      <td>0.1990</td>\n",
       "      <td>95.842</td>\n",
       "      <td>4</td>\n",
       "    </tr>\n",
       "  </tbody>\n",
       "</table>\n",
       "</div>"
      ],
      "text/plain": [
       "                       name                         album  \\\n",
       "1                shuga rush  EVERYTHING YOU HEARD IS TRUE   \n",
       "3  Confident / Feeling Cool               Enjoy Your Life   \n",
       "4                wanted you                         rare.   \n",
       "5                    Kasala                      Pioneers   \n",
       "6                   Pull Up             Everything Pretty   \n",
       "\n",
       "                artist artist_top_genre  release_date  length  popularity  \\\n",
       "1  Odunsi (The Engine)          afropop          2020   89488          30   \n",
       "3           Lady Donli     nigerian pop          2019  175135          14   \n",
       "4  Odunsi (The Engine)          afropop          2018  152049          25   \n",
       "5          DRB Lasgidi     nigerian pop          2020  184800          26   \n",
       "6          prettyboydo     nigerian pop          2018  202648          29   \n",
       "\n",
       "   danceability  acousticness  energy  instrumentalness  liveness  loudness  \\\n",
       "1         0.710        0.0822   0.683          0.000169    0.1010    -5.640   \n",
       "3         0.894        0.7980   0.611          0.000187    0.0964    -4.961   \n",
       "4         0.702        0.1160   0.833          0.910000    0.3480    -6.044   \n",
       "5         0.803        0.1270   0.525          0.000007    0.1290   -10.034   \n",
       "6         0.818        0.4520   0.587          0.004490    0.5900    -9.840   \n",
       "\n",
       "   speechiness    tempo  time_signature  \n",
       "1       0.3600  129.993               3  \n",
       "3       0.1130  111.087               4  \n",
       "4       0.0447  105.115               4  \n",
       "5       0.1970  100.103               4  \n",
       "6       0.1990   95.842               4  "
      ]
     },
     "execution_count": 4,
     "metadata": {},
     "output_type": "execute_result"
    }
   ],
   "source": [
    "df.head()"
   ]
  },
  {
   "cell_type": "code",
   "execution_count": 5,
   "metadata": {},
   "outputs": [],
   "source": [
    "from sklearn.preprocessing import LabelEncoder\n",
    "le = LabelEncoder()\n",
    "\n",
    "X = df.loc[:, ('artist_top_genre','popularity','danceability','acousticness','loudness','energy')]\n",
    "\n",
    "y = df['artist_top_genre']\n",
    "\n",
    "X['artist_top_genre'] = le.fit_transform(X['artist_top_genre'])\n",
    "\n",
    "y = le.transform(y)"
   ]
  },
  {
   "cell_type": "code",
   "execution_count": 6,
   "metadata": {},
   "outputs": [
    {
     "data": {
      "text/plain": [
       "array([2, 1, 2, 2, 2, 2, 2, 2, 2, 1, 2, 2, 1, 2, 0, 2, 1, 1, 0, 1, 0, 0,\n",
       "       0, 1, 0, 2, 0, 0, 2, 2, 1, 1, 0, 2, 2, 2, 2, 1, 1, 0, 2, 0, 2, 0,\n",
       "       2, 0, 0, 1, 1, 2, 1, 0, 0, 2, 2, 2, 2, 1, 1, 0, 1, 2, 2, 1, 2, 2,\n",
       "       1, 2, 1, 2, 2, 1, 1, 1, 1, 1, 2, 1, 2, 2, 0, 2, 1, 1, 1, 2, 2, 2,\n",
       "       2, 1, 2, 2, 2, 2, 1, 1, 2, 1, 1, 2, 1, 2, 1, 2, 1, 2, 2, 1, 2, 0,\n",
       "       1, 1, 2, 1, 1, 2, 2, 2, 2, 2, 2, 2, 0, 1, 1, 1, 1, 0, 1, 2, 1, 2,\n",
       "       1, 2, 2, 2, 0, 2, 1, 1, 1, 2, 1, 0, 1, 2, 2, 1, 1, 1, 0, 1, 2, 2,\n",
       "       2, 1, 1, 0, 1, 2, 1, 1, 1, 1, 2, 0, 0, 0, 1, 0, 0, 0, 0, 0, 0, 2,\n",
       "       0, 1, 0, 0, 1, 0, 0, 2, 0, 0, 1, 1, 2, 0, 2, 2, 0, 2, 2, 1, 1, 0,\n",
       "       1, 1, 0, 0, 1, 0, 2, 0, 1, 0, 2, 0, 0, 2, 2, 2, 1, 1, 1, 1, 1, 0,\n",
       "       2, 2, 2, 2, 2, 1, 1, 1, 1, 1, 2, 2, 1, 1, 0, 1, 1, 1, 0, 2, 2, 2,\n",
       "       1, 1, 0, 0, 1, 1, 2, 0, 0, 0, 0, 0, 2, 0, 0, 2, 1, 1, 1, 2, 2, 2,\n",
       "       1, 2, 1, 2, 1, 1, 1, 0, 2, 2, 2, 1, 2, 1, 0, 1, 2, 1, 1, 1, 2, 1])"
      ]
     },
     "execution_count": 6,
     "metadata": {},
     "output_type": "execute_result"
    }
   ],
   "source": [
    "from sklearn.cluster import KMeans\n",
    "\n",
    "nclusters = 3 \n",
    "seed = 0\n",
    "\n",
    "km = KMeans(n_clusters=nclusters, random_state=seed)\n",
    "km.fit(X)\n",
    "\n",
    "# Predict the cluster for each data point\n",
    "\n",
    "y_cluster_kmeans = km.predict(X)\n",
    "y_cluster_kmeans"
   ]
  },
  {
   "cell_type": "code",
   "execution_count": 7,
   "metadata": {},
   "outputs": [],
   "source": [
    "from sklearn.cluster import KMeans\n",
    "wcss = []\n",
    "\n",
    "for i in range(1, 11):\n",
    "    kmeans = KMeans(n_clusters = i, init = 'k-means++', random_state = 42)\n",
    "    kmeans.fit(X)\n",
    "    wcss.append(kmeans.inertia_)"
   ]
  },
  {
   "cell_type": "code",
   "execution_count": 9,
   "metadata": {},
   "outputs": [
    {
     "data": {
      "image/png": "[encoded data removed]",
      "text/plain": [
       "<Figure size 720x360 with 1 Axes>"
      ]
     },
     "metadata": {
      "needs_background": "light"
     },
     "output_type": "display_data"
    }
   ],
   "source": [
    "plt.figure(figsize=(10,5))\n",
    "sns.lineplot(wcss,marker='o',color='red')\n",
    "plt.title('Elbow')\n",
    "plt.xlabel('Number of clusters')\n",
    "plt.ylabel('WCSS')\n",
    "plt.show()"
   ]
  },
  {
   "cell_type": "code",
   "execution_count": 15,
   "metadata": {},
   "outputs": [
    {
     "data": {
      "image/png": "[encoded data removed]",
      "text/plain": [
       "<Figure size 432x288 with 1 Axes>"
      ]
     },
     "metadata": {
      "needs_background": "light"
     },
     "output_type": "display_data"
    }
   ],
   "source": [
    "from sklearn.cluster import KMeans\n",
    "kmeans = KMeans(n_clusters = 3)\n",
    "kmeans.fit(X)\n",
    "labels = kmeans.predict(X)\n",
    "plt.scatter(df['popularity'],df['danceability'],c = labels)\n",
    "plt.xlabel('popularity')\n",
    "plt.ylabel('danceability')\n",
    "plt.show()\n"
   ]
  }
 ],
 "metadata": {
  "kernelspec": {
   "display_name": "Python 3.8.6 64-bit",
   "language": "python",
   "name": "python3"
  },
  "language_info": {
   "codemirror_mode": {
    "name": "ipython",
    "version": 3
   },
   "file_extension": ".py",
   "mimetype": "text/x-python",
   "name": "python",
   "nbconvert_exporter": "python",
   "pygments_lexer": "ipython3",
   "version": "3.8.6"
  },
  "metadata": {
   "interpreter": {
    "hash": "70b38d7a306a849643e446cd70466270a13445e5987dfa1344ef2b127438fa4d"
   }
  },
  "orig_nbformat": 2,
  "vscode": {
   "interpreter": {
    "hash": "5165a8fa50eabd66af0a1b027c97ee5c399819ceb9c354a3d2da48cfbc716b6d"
   }
  }
 },
 "nbformat": 4,
 "nbformat_minor": 2
}
